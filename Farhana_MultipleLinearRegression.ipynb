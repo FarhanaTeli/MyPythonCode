{
 "cells": [
  {
   "cell_type": "code",
   "execution_count": 52,
   "id": "6cbddd62",
   "metadata": {},
   "outputs": [
    {
     "name": "stdout",
     "output_type": "stream",
     "text": [
      "------------------------------Multiple Linear Regression------------------------------\n",
      "Name: Teli Farhana Khatoon\n",
      "Roll No.21\n",
      "College name: Vivek College of Commerce\n",
      "M.sc(I.T.)[Sem 2]\n",
      "Date and Time = 12/04/2022 16:06:49\n"
     ]
    },
    {
     "data": {
      "text/html": [
       "<div>\n",
       "<style scoped>\n",
       "    .dataframe tbody tr th:only-of-type {\n",
       "        vertical-align: middle;\n",
       "    }\n",
       "\n",
       "    .dataframe tbody tr th {\n",
       "        vertical-align: top;\n",
       "    }\n",
       "\n",
       "    .dataframe thead th {\n",
       "        text-align: right;\n",
       "    }\n",
       "</style>\n",
       "<table border=\"1\" class=\"dataframe\">\n",
       "  <thead>\n",
       "    <tr style=\"text-align: right;\">\n",
       "      <th></th>\n",
       "      <th>Volume</th>\n",
       "      <th>Weight</th>\n",
       "      <th>CO2</th>\n",
       "      <th>Car</th>\n",
       "      <th>Model</th>\n",
       "    </tr>\n",
       "  </thead>\n",
       "  <tbody>\n",
       "    <tr>\n",
       "      <th>0</th>\n",
       "      <td>1000.0</td>\n",
       "      <td>790.0</td>\n",
       "      <td>99.0</td>\n",
       "      <td>Toyota</td>\n",
       "      <td>Aygo</td>\n",
       "    </tr>\n",
       "    <tr>\n",
       "      <th>1</th>\n",
       "      <td>1200.0</td>\n",
       "      <td>1160.0</td>\n",
       "      <td>95.0</td>\n",
       "      <td>Mitsubishi</td>\n",
       "      <td>Space Star</td>\n",
       "    </tr>\n",
       "    <tr>\n",
       "      <th>2</th>\n",
       "      <td>1000.0</td>\n",
       "      <td>929.0</td>\n",
       "      <td>95.0</td>\n",
       "      <td>Skoda</td>\n",
       "      <td>Citigo</td>\n",
       "    </tr>\n",
       "    <tr>\n",
       "      <th>3</th>\n",
       "      <td>900.0</td>\n",
       "      <td>865.0</td>\n",
       "      <td>90.0</td>\n",
       "      <td>Fiat</td>\n",
       "      <td>500</td>\n",
       "    </tr>\n",
       "    <tr>\n",
       "      <th>4</th>\n",
       "      <td>1500.0</td>\n",
       "      <td>1140.0</td>\n",
       "      <td>105.0</td>\n",
       "      <td>Mini</td>\n",
       "      <td>Cooper</td>\n",
       "    </tr>\n",
       "  </tbody>\n",
       "</table>\n",
       "</div>"
      ],
      "text/plain": [
       "   Volume  Weight    CO2         Car       Model\n",
       "0  1000.0   790.0   99.0      Toyota        Aygo\n",
       "1  1200.0  1160.0   95.0  Mitsubishi  Space Star\n",
       "2  1000.0   929.0   95.0       Skoda      Citigo\n",
       "3   900.0   865.0   90.0        Fiat         500\n",
       "4  1500.0  1140.0  105.0        Mini      Cooper"
      ]
     },
     "execution_count": 52,
     "metadata": {},
     "output_type": "execute_result"
    }
   ],
   "source": [
    "import pandas as pd # For loading csv file data to numpy array\n",
    "import numpy as np # For using data as array\n",
    "import matplotlib.pyplot as plt # For plotting graph(x,y)\n",
    "import matplotlib as mpl\n",
    "from sklearn.linear_model import LinearRegression # To perform MLR\n",
    "from sklearn.model_selection import train_test_split # For splitting data into train and test sets\n",
    "from datetime import datetime # To show current data and time\n",
    "print('------------------------------Multiple Linear Regression------------------------------')\n",
    "print('Name: Teli Farhana Khatoon')\n",
    "print('Roll No.21')\n",
    "print('College name: Vivek College of Commerce')\n",
    "print('M.sc(I.T.)[Sem 2]')\n",
    "now = datetime.now()\n",
    "# dd/mm/YY H:M:S\n",
    "dt_string = now.strftime(\"%d/%m/%Y %H:%M:%S\")\n",
    "print(\"Date and Time =\", dt_string)\t\n",
    "#To import dataset\n",
    "data=pd.read_csv('cars.csv')\n",
    "data.head() #To show data"
   ]
  },
  {
   "cell_type": "code",
   "execution_count": 53,
   "id": "1afe5e38",
   "metadata": {},
   "outputs": [
    {
     "name": "stdout",
     "output_type": "stream",
     "text": [
      "------Shape of the training and testing datasets------\n",
      "shape (25, 2) (25,)\n",
      "shape (11, 2) (11,)\n",
      "Intercept: 79.69471929115939\n",
      "Coefficient: [0.00755095 0.00780526]\n",
      "b0: 79.69471929115939\n",
      "b1: 0.0075509472703006895\n",
      "b2: 0.007805257527747124\n",
      "CO2 = 79.69471929115939 + 0.0076*Weight + 0.0078*Volume\n",
      "Predict value: [107.2087328]\n",
      "After increase the weight predict value: [114.75968007]\n",
      "R squared value is: 0.4944202790330685\n"
     ]
    },
    {
     "name": "stderr",
     "output_type": "stream",
     "text": [
      "C:\\Users\\Saddamk\\AppData\\Local\\Programs\\Python\\Python310\\lib\\site-packages\\sklearn\\base.py:450: UserWarning: X does not have valid feature names, but LinearRegression was fitted with feature names\n",
      "  warnings.warn(\n",
      "C:\\Users\\Saddamk\\AppData\\Local\\Programs\\Python\\Python310\\lib\\site-packages\\sklearn\\base.py:450: UserWarning: X does not have valid feature names, but LinearRegression was fitted with feature names\n",
      "  warnings.warn(\n"
     ]
    }
   ],
   "source": [
    "# Define predictor and target variable\n",
    "x=data[['Weight','Volume']] # Independent variable or predictor.\n",
    "y=data['CO2'] # Dependent variable or outcome.\n",
    "# Splitting the data into training and testing subsets\n",
    "x_train, x_test, y_train, y_test=train_test_split(x, y, test_size=0.3, random_state=0)\n",
    "print('------Shape of the training and testing datasets------')\n",
    "print('shape', x_train.shape, y_train.shape)\n",
    "print('shape', x_test.shape, y_test.shape)\n",
    "# Fit the data model\n",
    "mlr=LinearRegression() # Use the LinearRegression() method to create a linear regression object\n",
    "model=mlr.fit(x, y)\n",
    "# To calculate intercept and coefficient value\n",
    "print('Intercept:', mlr.intercept_) \n",
    "print('Coefficient:', mlr.coef_)\n",
    "# Multiple Linear Regression equation is as follows: y=b0+b1x1+b2x2 \n",
    "# (Wherein b0 is intercept, b1 is the coefficient of x1, and b2 is the coefficient of x2)\n",
    "B0=mlr.intercept_\n",
    "B1=mlr.coef_[0]\n",
    "B2=mlr.coef_[1]\n",
    "print('b0:', B0)\n",
    "print('b1:', B1)\n",
    "print('b2:', B2)\n",
    "reg_line = 'CO2 = {} + {}*Weight + {}*Volume'.format(B0, round(B1, 4), round(B2, 4)) # To show Regression Line using y=B0+B1X format\n",
    "print(reg_line)\n",
    "# Predict CO2 values based on a car's weight and volume\n",
    "#predict the CO2 emission of a car where the weight is 2300kg, and the volume is 1300cm3:\n",
    "predictedCO2_1 = mlr.predict([[2300, 1300]])\n",
    "print('Predict value:', predictedCO2_1)\n",
    "# We have already predicted that if a car with a 1300cm3 engine weighs 2300kg, the CO2 emission will be approximately 107g.\n",
    "# What if we increase the weight with 1000kg?\n",
    "predictedCO2_2 = mlr.predict([[3300, 1300]])\n",
    "print('After increase the weight predict value:', predictedCO2_2)\n",
    "# To find R squared value\n",
    "Rsqr=mlr.score(x_test, y_test)\n",
    "print('R squared value is:', Rsqr)"
   ]
  },
  {
   "cell_type": "code",
   "execution_count": 54,
   "id": "0b9b6b97",
   "metadata": {},
   "outputs": [
    {
     "data": {
      "image/png": "[encoded data removed]",
      "text/plain": [
       "<Figure size 432x288 with 1 Axes>"
      ]
     },
     "metadata": {},
     "output_type": "display_data"
    }
   ],
   "source": [
    "# Plot for residual error\n",
    "# Setting plot style\n",
    "plt.style.use('fivethirtyeight')\n",
    "# Plotting residual errors in training data\n",
    "plt.scatter(mlr.predict(x_train), mlr.predict(x_train)-y_train, color='r', s=15, label= 'Train data')\n",
    "# Plotting residual errors in testing data\n",
    "plt.scatter(mlr.predict(x_test), mlr.predict(x_test)-y_test, color='b', s=15, label= 'Test data')\n",
    "# Plotting line for Zero residual error\n",
    "plt.hlines(y=0, xmin=0, xmax=40, linewidth=2)\n",
    "# Plotting legend \n",
    "plt.legend(loc='upper right')\n",
    "# Plot title\n",
    "plt.title(\"Residual Errors\")\n",
    "# Method call for showing the plot\n",
    "plt.show()\n"
   ]
  },
  {
   "cell_type": "markdown",
   "id": "7d8a3675",
   "metadata": {},
   "source": [
    "https://medium.com/swlh/simple-and-multiple-linear-regression-in-python-70dd09f9acbf"
   ]
  },
  {
   "cell_type": "markdown",
   "id": "d6d5325c",
   "metadata": {},
   "source": [
    "https://www.w3schools.com/python/python_ml_multiple_regression.asp"
   ]
  },
  {
   "cell_type": "markdown",
   "id": "6adc5ed6",
   "metadata": {},
   "source": [
    "https://youtu.be/m-k84cCves8"
   ]
  },
  {
   "cell_type": "code",
   "execution_count": null,
   "id": "d3bdcb16",
   "metadata": {},
   "outputs": [],
   "source": []
  }
 ],
 "metadata": {
  "kernelspec": {
   "display_name": "Python 3 (ipykernel)",
   "language": "python",
   "name": "python3"
  },
  "language_info": {
   "codemirror_mode": {
    "name": "ipython",
    "version": 3
   },
   "file_extension": ".py",
   "mimetype": "text/x-python",
   "name": "python",
   "nbconvert_exporter": "python",
   "pygments_lexer": "ipython3",
   "version": "3.10.4"
  }
 },
 "nbformat": 4,
 "nbformat_minor": 5
}
